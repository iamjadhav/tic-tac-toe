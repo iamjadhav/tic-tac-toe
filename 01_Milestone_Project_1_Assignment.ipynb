{
  "cells": [
    {
      "cell_type": "markdown",
      "metadata": {
        "id": "UQAvWnLsu41u"
      },
      "source": [
        "___\n",
        "\n",
        "<a href='https://www.udemy.com/user/joseportilla/'><img src='../Pierian_Data_Logo.png'/></a>\n",
        "___\n",
        "<center><em>Content Copyright by Pierian Data</em></center>"
      ]
    },
    {
      "cell_type": "markdown",
      "metadata": {
        "id": "5O48bJ61u41w"
      },
      "source": [
        "# Milestone Project 1\n",
        "## Congratulations on making it to your first milestone!\n",
        "You've already learned a ton and are ready to work on a real project.\n",
        "\n",
        "Your assignment: Create a Tic Tac Toe game. You are free to use any IDE you like.\n",
        "\n",
        "Here are the requirements:\n",
        "\n",
        "* 2 players should be able to play the game (both sitting at the same computer)\n",
        "* The board should be printed out every time a player makes a move\n",
        "* You should be able to accept input of the player position and then place a symbol on the board\n",
        "\n",
        "Feel free to use Google to help you figure anything out (but don't just Google \"Tic Tac Toe in Python\" otherwise you won't learn anything!) Keep in mind that this project can take anywhere between several hours to several days.\n",
        "\n",
        "There are 4 Jupyter Notebooks related to this assignment:\n",
        "\n",
        "* This Assignment Notebook\n",
        "* A \"Walkthrough Steps Workbook\" Notebook\n",
        "* A \"Complete Walkthrough Solution\" Notebook\n",
        "* An \"Advanced Solution\" Notebook\n",
        "\n",
        "I encourage you to just try to start the project on your own without referencing any of the notebooks. If you get stuck, check out the next lecture which is a text lecture with helpful hints and steps. If you're still stuck after that, then check out the Walkthrough Steps Workbook, which breaks up the project in steps for you to solve. Still stuck? Then check out the Complete Walkthrough Solution video for more help on approaching the project!"
      ]
    },
    {
      "cell_type": "markdown",
      "metadata": {
        "id": "L-JDLJabu41x"
      },
      "source": [
        "There are parts of this that will be a struggle...and that is good! I have complete faith that if you have made it this far through the course you have all the tools and knowledge to tackle this project. Remember, it's totally open book, so take your time, do a little research, and remember:\n",
        "\n",
        "## HAVE FUN!"
      ]
    },
    {
      "cell_type": "code",
      "source": [
        "def display_board(pos):\n",
        "  print(\"Current Board \\n\")\n",
        "  d = {1: f'| {pos[1]} | {pos[2]} | {pos[3]} |', 2: f'| {pos[4]} | {pos[5]} | {pos[6]} |', 3: f'| {pos[7]} | {pos[8]} | {pos[9]} |'}\n",
        "  for key, value in d.items():\n",
        "    print(value)\n",
        "  game_over = winning_combos(pos)\n",
        "\n",
        "  return d, game_over"
      ],
      "metadata": {
        "id": "JvvkMbuQvyCP"
      },
      "execution_count": null,
      "outputs": []
    },
    {
      "cell_type": "code",
      "source": [
        "def winning_combos(pos):\n",
        "  game_over = False\n",
        "  game_tied = False\n",
        "  all_x = ['X','X','X']\n",
        "  all_o = ['O','O','O']\n",
        "  if ([pos[1],pos[2],pos[3]] == all_x) or ([pos[1],pos[2],pos[3]] == all_o):\n",
        "    game_over = True\n",
        "    return game_over\n",
        "  elif ([pos[4],pos[5],pos[6]] == all_x) or ([pos[4],pos[5],pos[6]] == all_o):\n",
        "    game_over = True\n",
        "    return game_over\n",
        "  elif ([pos[7],pos[8],pos[9]] == all_x) or ([pos[7],pos[8],pos[9]] == all_o):\n",
        "    game_over = True\n",
        "    return game_over\n",
        "  elif ([pos[1],pos[4],pos[7]] == all_x) or ([pos[1],pos[4],pos[7]] == all_o):\n",
        "    game_over = True\n",
        "    return game_over\n",
        "  elif ([pos[2],pos[5],pos[8]] == all_x) or ([pos[2],pos[5],pos[8]] == all_o):\n",
        "    game_over = True\n",
        "    return game_over\n",
        "  elif ([pos[3],pos[6],pos[9]] == all_x) or ([pos[3],pos[6],pos[9]] == all_o):\n",
        "    game_over = True\n",
        "    return game_over\n",
        "  elif ([pos[1],pos[5],pos[9]] == all_x) or ([pos[1],pos[5],pos[9]] == all_o):\n",
        "    game_over = True\n",
        "    return game_over\n",
        "  elif ([pos[3],pos[5],pos[7]] == all_x) or ([pos[3],pos[5],pos[7]] == all_o):\n",
        "    game_over = True\n",
        "    return game_over\n",
        "  else:\n",
        "    print(\"\\n<--------------Game Tied-------------->\")\n",
        "    return game_over\n",
        "\n"
      ],
      "metadata": {
        "id": "9HAP3dKFvyLb"
      },
      "execution_count": null,
      "outputs": []
    },
    {
      "cell_type": "code",
      "source": [
        "def display_guide():\n",
        "  print('\\nExample Board: ')\n",
        "  print('| 1 | 2 | 3 |')\n",
        "  print('| 4 | 5 | 6 |')\n",
        "  print('| 7 | 8 | 9 |\\n')\n"
      ],
      "metadata": {
        "id": "AB9NG1VIgdRc"
      },
      "execution_count": null,
      "outputs": []
    },
    {
      "cell_type": "code",
      "source": [
        "display_guide()"
      ],
      "metadata": {
        "id": "4pbRzTh-gdeG",
        "colab": {
          "base_uri": "https://localhost:8080/"
        },
        "outputId": "55221d14-34f2-4287-d023-14d8391b71af"
      },
      "execution_count": null,
      "outputs": [
        {
          "output_type": "stream",
          "name": "stdout",
          "text": [
            "\n",
            "Example Board: \n",
            "| 1 | 2 | 3 |\n",
            "| 4 | 5 | 6 |\n",
            "| 7 | 8 | 9 |\n",
            "\n"
          ]
        }
      ]
    },
    {
      "cell_type": "code",
      "source": [
        "from IPython.display import clear_output\n",
        "\n",
        "def user_input():\n",
        "  player_input = ''\n",
        "  valid_input = False\n",
        "  valid_position = False\n",
        "  pos = {1: ' ', 2: ' ', 3: ' ', 4: ' ', 5: ' ', 6: ' ', 7: ' ', 8: ' ', 9: ' '}\n",
        "  count = 0\n",
        "  current_input = []\n",
        "\n",
        "  while valid_input == False or count != 9:\n",
        "    ip = 'input' if count == 0 else 'next input'\n",
        "    player_input = str(input(f'Enter your {ip} (must be X or O)...'))\n",
        "    print(f'Your input --> {player_input.upper()}')\n",
        "    if player_input.upper() in ['X', 'O']:\n",
        "      valid_input = True\n",
        "      while valid_position == False or count != 9:\n",
        "        display_guide()\n",
        "        try:\n",
        "          player_position = int(input(\"Enter your position (must be from 1 to 9, Refer to the Example Board above)...\"))\n",
        "        except ValueError:\n",
        "          print('Position input is not a digit !!')\n",
        "          continue\n",
        "        if player_position in list(range(1,10)):\n",
        "          if player_position not in current_input:\n",
        "            valid_position = True\n",
        "            clear_output()\n",
        "            print(f'You want {player_input.upper()} at position {player_position}')\n",
        "            current_input.append(player_position)\n",
        "            pos[player_position] = player_input.upper()\n",
        "            board, flag = display_board(pos)\n",
        "            if flag:\n",
        "              print(\"\\nWe have a winner !!!\")\n",
        "              return\n",
        "            count+=1\n",
        "            break\n",
        "          else:\n",
        "            print('Sorry this place is already taken... \\n')\n",
        "            print('Enter a different position \\n')\n",
        "            break\n",
        "        else:\n",
        "          valid_position = False\n",
        "          print('Please enter a valid position... \\n')\n",
        "    else:\n",
        "      valid_input = False\n",
        "      print('Please enter a valid input... \\n')\n"
      ],
      "metadata": {
        "id": "S3GeyzgqvyTu"
      },
      "execution_count": null,
      "outputs": []
    },
    {
      "cell_type": "code",
      "source": [
        "user_input()"
      ],
      "metadata": {
        "id": "cWO9B8p6vyZo",
        "colab": {
          "base_uri": "https://localhost:8080/"
        },
        "outputId": "b54f462d-e619-4e00-c83a-149ebc9e716c"
      },
      "execution_count": null,
      "outputs": [
        {
          "output_type": "stream",
          "name": "stdout",
          "text": [
            "You want X at position 9\n",
            "Current Board \n",
            "\n",
            "| X |   | O |\n",
            "|   | X | O |\n",
            "| O | X | X |\n",
            "\n",
            "We have a winner !!!\n"
          ]
        }
      ]
    },
    {
      "cell_type": "code",
      "source": [],
      "metadata": {
        "id": "y9YEiA33jHLc"
      },
      "execution_count": null,
      "outputs": []
    }
  ],
  "metadata": {
    "kernelspec": {
      "display_name": "Python 3",
      "language": "python",
      "name": "python3"
    },
    "language_info": {
      "codemirror_mode": {
        "name": "ipython",
        "version": 3
      },
      "file_extension": ".py",
      "mimetype": "text/x-python",
      "name": "python",
      "nbconvert_exporter": "python",
      "pygments_lexer": "ipython3",
      "version": "3.6.6"
    },
    "colab": {
      "provenance": []
    }
  },
  "nbformat": 4,
  "nbformat_minor": 0
}